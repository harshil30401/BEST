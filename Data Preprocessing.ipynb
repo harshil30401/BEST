{
 "cells": [
  {
   "cell_type": "code",
   "execution_count": 1,
   "id": "9eb9ad39",
   "metadata": {},
   "outputs": [],
   "source": [
    "import pandas as pd\n",
    "import numpy as np\n",
    "from sklearn.metrics.pairwise import cosine_similarity"
   ]
  },
  {
   "cell_type": "code",
   "execution_count": 2,
   "id": "ef743590",
   "metadata": {},
   "outputs": [
    {
     "data": {
      "text/html": [
       "<div>\n",
       "<style scoped>\n",
       "    .dataframe tbody tr th:only-of-type {\n",
       "        vertical-align: middle;\n",
       "    }\n",
       "\n",
       "    .dataframe tbody tr th {\n",
       "        vertical-align: top;\n",
       "    }\n",
       "\n",
       "    .dataframe thead th {\n",
       "        text-align: right;\n",
       "    }\n",
       "</style>\n",
       "<table border=\"1\" class=\"dataframe\">\n",
       "  <thead>\n",
       "    <tr style=\"text-align: right;\">\n",
       "      <th></th>\n",
       "      <th>Title</th>\n",
       "      <th>description</th>\n",
       "      <th>authors</th>\n",
       "      <th>image</th>\n",
       "      <th>previewLink</th>\n",
       "      <th>publisher</th>\n",
       "      <th>publishedDate</th>\n",
       "      <th>infoLink</th>\n",
       "      <th>ratingsCount</th>\n",
       "      <th>genre</th>\n",
       "    </tr>\n",
       "  </thead>\n",
       "  <tbody>\n",
       "    <tr>\n",
       "      <th>0</th>\n",
       "      <td>Reap the Whirlwind</td>\n",
       "      <td>“This account of battle on the plains brings t...</td>\n",
       "      <td>['Terry C. Johnston']</td>\n",
       "      <td>http://books.google.com/books/content?id=XrOd3...</td>\n",
       "      <td>http://books.google.com/books?id=XrOd3eY6AoMC&amp;...</td>\n",
       "      <td>Domain</td>\n",
       "      <td>2010-07-21</td>\n",
       "      <td>https://play.google.com/store/books/details?id...</td>\n",
       "      <td>1.0</td>\n",
       "      <td>fiction</td>\n",
       "    </tr>\n",
       "    <tr>\n",
       "      <th>1</th>\n",
       "      <td>The Scare Crow</td>\n",
       "      <td>When the farmer places a scarecrow in the corn...</td>\n",
       "      <td>['Loren Long']</td>\n",
       "      <td>http://books.google.com/books/content?id=iK3yD...</td>\n",
       "      <td>http://books.google.com/books?id=iK3yDQAAQBAJ&amp;...</td>\n",
       "      <td>Penguin</td>\n",
       "      <td>2014</td>\n",
       "      <td>http://books.google.com/books?id=iK3yDQAAQBAJ&amp;...</td>\n",
       "      <td>4.0</td>\n",
       "      <td>fiction</td>\n",
       "    </tr>\n",
       "    <tr>\n",
       "      <th>2</th>\n",
       "      <td>New Moon (Berkley Sensation)</td>\n",
       "      <td>When werewolf Logan Marshall is rescued by an ...</td>\n",
       "      <td>['Rebecca York']</td>\n",
       "      <td>http://books.google.com/books/content?id=EEMSm...</td>\n",
       "      <td>http://books.google.com/books?id=EEMSmZQAQBcC&amp;...</td>\n",
       "      <td>Penguin</td>\n",
       "      <td>2007</td>\n",
       "      <td>http://books.google.com/books?id=EEMSmZQAQBcC&amp;...</td>\n",
       "      <td>2.0</td>\n",
       "      <td>fiction</td>\n",
       "    </tr>\n",
       "    <tr>\n",
       "      <th>3</th>\n",
       "      <td>The Runaway Bridesmaid (Harlequin American Rom...</td>\n",
       "      <td>It's not who youre running from ... it's who y...</td>\n",
       "      <td>['Kaitlyn Rice']</td>\n",
       "      <td>http://books.google.com/books/content?id=f-4OX...</td>\n",
       "      <td>http://books.google.com/books?id=f-4OXrI3-SkC&amp;...</td>\n",
       "      <td>Harlequin Books</td>\n",
       "      <td>2006</td>\n",
       "      <td>http://books.google.com/books?id=f-4OXrI3-SkC&amp;...</td>\n",
       "      <td>NaN</td>\n",
       "      <td>fiction</td>\n",
       "    </tr>\n",
       "    <tr>\n",
       "      <th>4</th>\n",
       "      <td>Two years before the mast: A personal narrativ...</td>\n",
       "      <td>This book is a fascinating and detailed chroni...</td>\n",
       "      <td>['R. H. Dana']</td>\n",
       "      <td>http://books.google.com/books/content?id=gfC1C...</td>\n",
       "      <td>http://books.google.com/books?id=gfC1CwAAQBAJ&amp;...</td>\n",
       "      <td>Read Books Ltd</td>\n",
       "      <td>2016-03-09</td>\n",
       "      <td>https://play.google.com/store/books/details?id...</td>\n",
       "      <td>1.0</td>\n",
       "      <td>sports &amp; recreation</td>\n",
       "    </tr>\n",
       "    <tr>\n",
       "      <th>...</th>\n",
       "      <td>...</td>\n",
       "      <td>...</td>\n",
       "      <td>...</td>\n",
       "      <td>...</td>\n",
       "      <td>...</td>\n",
       "      <td>...</td>\n",
       "      <td>...</td>\n",
       "      <td>...</td>\n",
       "      <td>...</td>\n",
       "      <td>...</td>\n",
       "    </tr>\n",
       "    <tr>\n",
       "      <th>16923</th>\n",
       "      <td>Purple Delicious Blackberry Jam</td>\n",
       "      <td>When Freddy and Muff persuade reluctant Grandm...</td>\n",
       "      <td>['Lisa Westberg Peters']</td>\n",
       "      <td>http://books.google.com/books/content?id=wgAwA...</td>\n",
       "      <td>http://books.google.com/books?id=wgAwAAAACAAJ&amp;...</td>\n",
       "      <td>Arcade Pub</td>\n",
       "      <td>1992</td>\n",
       "      <td>http://books.google.com/books?id=wgAwAAAACAAJ&amp;...</td>\n",
       "      <td>NaN</td>\n",
       "      <td>fiction</td>\n",
       "    </tr>\n",
       "    <tr>\n",
       "      <th>16924</th>\n",
       "      <td>Art Of Chinese Swordsmanship: Manual Of Taiji ...</td>\n",
       "      <td>Most Westerners are familiar with Taiji Quan (...</td>\n",
       "      <td>['Yun Zhang']</td>\n",
       "      <td>http://books.google.com/books/content?id=C5MPA...</td>\n",
       "      <td>http://books.google.com/books?id=C5MPAAAACAAJ&amp;...</td>\n",
       "      <td>Weatherhill, Incorporated</td>\n",
       "      <td>1998</td>\n",
       "      <td>http://books.google.com/books?id=C5MPAAAACAAJ&amp;...</td>\n",
       "      <td>NaN</td>\n",
       "      <td>sports &amp; recreation</td>\n",
       "    </tr>\n",
       "    <tr>\n",
       "      <th>16925</th>\n",
       "      <td>German for Beginners (Language Guides)</td>\n",
       "      <td>Are you sick and tired of boring textbooks tha...</td>\n",
       "      <td>['Simple Language Learning']</td>\n",
       "      <td>http://books.google.com/books/content?id=du79z...</td>\n",
       "      <td>http://books.google.nl/books?id=du79zAEACAAJ&amp;d...</td>\n",
       "      <td>NaN</td>\n",
       "      <td>2019-12-19</td>\n",
       "      <td>http://books.google.nl/books?id=du79zAEACAAJ&amp;d...</td>\n",
       "      <td>NaN</td>\n",
       "      <td>travel</td>\n",
       "    </tr>\n",
       "    <tr>\n",
       "      <th>16926</th>\n",
       "      <td>Sanditon, the Watsons, Miss</td>\n",
       "      <td>Two tantalizing incomplete stories revisit Aus...</td>\n",
       "      <td>['Jane Austen']</td>\n",
       "      <td>http://books.google.com/books/content?id=3sacM...</td>\n",
       "      <td>http://books.google.com/books?id=3sacMYRRvBUC&amp;...</td>\n",
       "      <td>Courier Corporation</td>\n",
       "      <td>2012-03-06</td>\n",
       "      <td>https://play.google.com/store/books/details?id...</td>\n",
       "      <td>2.0</td>\n",
       "      <td>fiction</td>\n",
       "    </tr>\n",
       "    <tr>\n",
       "      <th>16927</th>\n",
       "      <td>Against the Musicians (Greek and Latin Music T...</td>\n",
       "      <td>A long-needed overview of, and guide to, the p...</td>\n",
       "      <td>['Edward Nowacki']</td>\n",
       "      <td>http://books.google.com/books/content?id=PAo7E...</td>\n",
       "      <td>http://books.google.com/books?id=PAo7EAAAQBAJ&amp;...</td>\n",
       "      <td>Boydell &amp; Brewer</td>\n",
       "      <td>2020</td>\n",
       "      <td>http://books.google.com/books?id=PAo7EAAAQBAJ&amp;...</td>\n",
       "      <td>NaN</td>\n",
       "      <td>music</td>\n",
       "    </tr>\n",
       "  </tbody>\n",
       "</table>\n",
       "<p>16928 rows × 10 columns</p>\n",
       "</div>"
      ],
      "text/plain": [
       "                                                   Title  \\\n",
       "0                                     Reap the Whirlwind   \n",
       "1                                         The Scare Crow   \n",
       "2                           New Moon (Berkley Sensation)   \n",
       "3      The Runaway Bridesmaid (Harlequin American Rom...   \n",
       "4      Two years before the mast: A personal narrativ...   \n",
       "...                                                  ...   \n",
       "16923                    Purple Delicious Blackberry Jam   \n",
       "16924  Art Of Chinese Swordsmanship: Manual Of Taiji ...   \n",
       "16925             German for Beginners (Language Guides)   \n",
       "16926                        Sanditon, the Watsons, Miss   \n",
       "16927  Against the Musicians (Greek and Latin Music T...   \n",
       "\n",
       "                                             description  \\\n",
       "0      “This account of battle on the plains brings t...   \n",
       "1      When the farmer places a scarecrow in the corn...   \n",
       "2      When werewolf Logan Marshall is rescued by an ...   \n",
       "3      It's not who youre running from ... it's who y...   \n",
       "4      This book is a fascinating and detailed chroni...   \n",
       "...                                                  ...   \n",
       "16923  When Freddy and Muff persuade reluctant Grandm...   \n",
       "16924  Most Westerners are familiar with Taiji Quan (...   \n",
       "16925  Are you sick and tired of boring textbooks tha...   \n",
       "16926  Two tantalizing incomplete stories revisit Aus...   \n",
       "16927  A long-needed overview of, and guide to, the p...   \n",
       "\n",
       "                            authors  \\\n",
       "0             ['Terry C. Johnston']   \n",
       "1                    ['Loren Long']   \n",
       "2                  ['Rebecca York']   \n",
       "3                  ['Kaitlyn Rice']   \n",
       "4                    ['R. H. Dana']   \n",
       "...                             ...   \n",
       "16923      ['Lisa Westberg Peters']   \n",
       "16924                 ['Yun Zhang']   \n",
       "16925  ['Simple Language Learning']   \n",
       "16926               ['Jane Austen']   \n",
       "16927            ['Edward Nowacki']   \n",
       "\n",
       "                                                   image  \\\n",
       "0      http://books.google.com/books/content?id=XrOd3...   \n",
       "1      http://books.google.com/books/content?id=iK3yD...   \n",
       "2      http://books.google.com/books/content?id=EEMSm...   \n",
       "3      http://books.google.com/books/content?id=f-4OX...   \n",
       "4      http://books.google.com/books/content?id=gfC1C...   \n",
       "...                                                  ...   \n",
       "16923  http://books.google.com/books/content?id=wgAwA...   \n",
       "16924  http://books.google.com/books/content?id=C5MPA...   \n",
       "16925  http://books.google.com/books/content?id=du79z...   \n",
       "16926  http://books.google.com/books/content?id=3sacM...   \n",
       "16927  http://books.google.com/books/content?id=PAo7E...   \n",
       "\n",
       "                                             previewLink  \\\n",
       "0      http://books.google.com/books?id=XrOd3eY6AoMC&...   \n",
       "1      http://books.google.com/books?id=iK3yDQAAQBAJ&...   \n",
       "2      http://books.google.com/books?id=EEMSmZQAQBcC&...   \n",
       "3      http://books.google.com/books?id=f-4OXrI3-SkC&...   \n",
       "4      http://books.google.com/books?id=gfC1CwAAQBAJ&...   \n",
       "...                                                  ...   \n",
       "16923  http://books.google.com/books?id=wgAwAAAACAAJ&...   \n",
       "16924  http://books.google.com/books?id=C5MPAAAACAAJ&...   \n",
       "16925  http://books.google.nl/books?id=du79zAEACAAJ&d...   \n",
       "16926  http://books.google.com/books?id=3sacMYRRvBUC&...   \n",
       "16927  http://books.google.com/books?id=PAo7EAAAQBAJ&...   \n",
       "\n",
       "                       publisher publishedDate  \\\n",
       "0                         Domain    2010-07-21   \n",
       "1                        Penguin          2014   \n",
       "2                        Penguin          2007   \n",
       "3                Harlequin Books          2006   \n",
       "4                 Read Books Ltd    2016-03-09   \n",
       "...                          ...           ...   \n",
       "16923                 Arcade Pub          1992   \n",
       "16924  Weatherhill, Incorporated          1998   \n",
       "16925                        NaN    2019-12-19   \n",
       "16926        Courier Corporation    2012-03-06   \n",
       "16927           Boydell & Brewer          2020   \n",
       "\n",
       "                                                infoLink  ratingsCount  \\\n",
       "0      https://play.google.com/store/books/details?id...           1.0   \n",
       "1      http://books.google.com/books?id=iK3yDQAAQBAJ&...           4.0   \n",
       "2      http://books.google.com/books?id=EEMSmZQAQBcC&...           2.0   \n",
       "3      http://books.google.com/books?id=f-4OXrI3-SkC&...           NaN   \n",
       "4      https://play.google.com/store/books/details?id...           1.0   \n",
       "...                                                  ...           ...   \n",
       "16923  http://books.google.com/books?id=wgAwAAAACAAJ&...           NaN   \n",
       "16924  http://books.google.com/books?id=C5MPAAAACAAJ&...           NaN   \n",
       "16925  http://books.google.nl/books?id=du79zAEACAAJ&d...           NaN   \n",
       "16926  https://play.google.com/store/books/details?id...           2.0   \n",
       "16927  http://books.google.com/books?id=PAo7EAAAQBAJ&...           NaN   \n",
       "\n",
       "                     genre  \n",
       "0                  fiction  \n",
       "1                  fiction  \n",
       "2                  fiction  \n",
       "3                  fiction  \n",
       "4      sports & recreation  \n",
       "...                    ...  \n",
       "16923              fiction  \n",
       "16924  sports & recreation  \n",
       "16925               travel  \n",
       "16926              fiction  \n",
       "16927                music  \n",
       "\n",
       "[16928 rows x 10 columns]"
      ]
     },
     "execution_count": 2,
     "metadata": {},
     "output_type": "execute_result"
    }
   ],
   "source": [
    "df = pd.read_csv(\"books.csv\")\n",
    "df"
   ]
  },
  {
   "cell_type": "markdown",
   "id": "6fc19860",
   "metadata": {},
   "source": [
    "### Data Exploration"
   ]
  },
  {
   "cell_type": "code",
   "execution_count": 3,
   "id": "bea01531",
   "metadata": {},
   "outputs": [
    {
     "name": "stdout",
     "output_type": "stream",
     "text": [
      "Reap the Whirlwind\n",
      "“This account of battle on the plains brings the period to life.”—Publishers Weekly Spring, 1876. The war cry has sounded. The Sioux and the Cheyenne are massing along the northern frontier. And even while his wife awaits the birth of their child, army scount Seamus Donegan knows he must head north to Fort Fetterman. Brigadier General George C. Crook is preparing to meet the fierce challenge laid down by the bold and brutal chief Crazy Horse, and the future hope of the nation rests in the strong hands and courageous hearts of men like Seamus Donegan. He yearns for a reunion with his wife, but the trail of that fateful campaign leads Donegan ever farther from home—toward the land of the Rosebud and a hard rain of blood and tears.\n",
      "['Terry C. Johnston']\n",
      "http://books.google.com/books/content?id=XrOd3eY6AoMC&printsec=frontcover&img=1&zoom=1&edge=curl&source=gbs_api\n",
      "http://books.google.com/books?id=XrOd3eY6AoMC&printsec=frontcover&dq=Reap+the+Whirlwind&hl=&cd=1&source=gbs_api\n",
      "Domain\n",
      "2010-07-21\n",
      "https://play.google.com/store/books/details?id=XrOd3eY6AoMC&source=gbs_api\n",
      "1.0\n",
      "fiction\n"
     ]
    }
   ],
   "source": [
    "for i in df.loc[0]:\n",
    "    print(i)"
   ]
  },
  {
   "cell_type": "code",
   "execution_count": 4,
   "id": "cf7a464d",
   "metadata": {},
   "outputs": [
    {
     "name": "stdout",
     "output_type": "stream",
     "text": [
      "<class 'pandas.core.frame.DataFrame'>\n",
      "RangeIndex: 16928 entries, 0 to 16927\n",
      "Data columns (total 10 columns):\n",
      " #   Column         Non-Null Count  Dtype  \n",
      "---  ------         --------------  -----  \n",
      " 0   Title          16928 non-null  object \n",
      " 1   description    15899 non-null  object \n",
      " 2   authors        16755 non-null  object \n",
      " 3   image          16244 non-null  object \n",
      " 4   previewLink    16928 non-null  object \n",
      " 5   publisher      15453 non-null  object \n",
      " 6   publishedDate  16865 non-null  object \n",
      " 7   infoLink       16928 non-null  object \n",
      " 8   ratingsCount   6633 non-null   float64\n",
      " 9   genre          16928 non-null  object \n",
      "dtypes: float64(1), object(9)\n",
      "memory usage: 1.3+ MB\n"
     ]
    }
   ],
   "source": [
    "df.info()"
   ]
  },
  {
   "cell_type": "code",
   "execution_count": 5,
   "id": "d88de0a6",
   "metadata": {},
   "outputs": [
    {
     "data": {
      "text/plain": [
       "Title                0\n",
       "description       1029\n",
       "authors            173\n",
       "image              684\n",
       "previewLink          0\n",
       "publisher         1475\n",
       "publishedDate       63\n",
       "infoLink             0\n",
       "ratingsCount     10295\n",
       "genre                0\n",
       "dtype: int64"
      ]
     },
     "execution_count": 5,
     "metadata": {},
     "output_type": "execute_result"
    }
   ],
   "source": [
    "df.isnull().sum()"
   ]
  },
  {
   "cell_type": "code",
   "execution_count": 6,
   "id": "c4ac9522",
   "metadata": {},
   "outputs": [],
   "source": [
    "test = np.array([i for i in df.authors])\n",
    "test = [i[2:len(i)-2] for i in test]"
   ]
  },
  {
   "cell_type": "code",
   "execution_count": 7,
   "id": "2479f52b",
   "metadata": {},
   "outputs": [
    {
     "data": {
      "text/plain": [
       "0               Terry C. Johnston\n",
       "1                      Loren Long\n",
       "2                    Rebecca York\n",
       "3                    Kaitlyn Rice\n",
       "4                      R. H. Dana\n",
       "                   ...           \n",
       "16923        Lisa Westberg Peters\n",
       "16924                   Yun Zhang\n",
       "16925    Simple Language Learning\n",
       "16926                 Jane Austen\n",
       "16927              Edward Nowacki\n",
       "Name: authors, Length: 16928, dtype: object"
      ]
     },
     "execution_count": 7,
     "metadata": {},
     "output_type": "execute_result"
    }
   ],
   "source": [
    "df.authors = test\n",
    "df.authors"
   ]
  },
  {
   "cell_type": "markdown",
   "id": "8698bcd9",
   "metadata": {},
   "source": [
    "### Data Imputation"
   ]
  },
  {
   "cell_type": "markdown",
   "id": "ce1858ee",
   "metadata": {},
   "source": [
    "#### The null values of Description can be replaced with \"No description available!\"\n",
    "#### The null values of Authors can be replaced with \"Anonymous\"\n",
    "#### The null values of Images can be replaced with a Default image in database.\n",
    "#### The null values of publisher can be replaced with most frequent publisher in the column."
   ]
  },
  {
   "cell_type": "code",
   "execution_count": 8,
   "id": "b84ced09",
   "metadata": {},
   "outputs": [
    {
     "data": {
      "text/plain": [
       "str"
      ]
     },
     "execution_count": 8,
     "metadata": {},
     "output_type": "execute_result"
    }
   ],
   "source": [
    "type(df.image[0])"
   ]
  },
  {
   "cell_type": "code",
   "execution_count": 9,
   "id": "abf6455f",
   "metadata": {},
   "outputs": [
    {
     "data": {
      "text/plain": [
       "'Penguin'"
      ]
     },
     "execution_count": 9,
     "metadata": {},
     "output_type": "execute_result"
    }
   ],
   "source": [
    "df.publisher.value_counts().keys()[0]"
   ]
  },
  {
   "cell_type": "code",
   "execution_count": 10,
   "id": "129b6408",
   "metadata": {},
   "outputs": [],
   "source": [
    "df = df.fillna({\n",
    "    \"description\" : \"No Description available!\",\n",
    "    \"authors\" : \"Anonymous\",\n",
    "    \"image\" : \"https://tse3.mm.bing.net/th?id=OIP.P-nIodv7WzkQ4wYYPsXWaQAAAA&pid=Api&P=0\",\n",
    "    \"publisher\" : df.publisher.value_counts().keys()[0],\n",
    "})"
   ]
  },
  {
   "cell_type": "code",
   "execution_count": 11,
   "id": "241e86c2",
   "metadata": {},
   "outputs": [
    {
     "data": {
      "text/plain": [
       "1.0    2076\n",
       "2.0     994\n",
       "3.0     630\n",
       "4.0     394\n",
       "5.0     310\n",
       "Name: ratingsCount, dtype: int64"
      ]
     },
     "execution_count": 11,
     "metadata": {},
     "output_type": "execute_result"
    }
   ],
   "source": [
    "df.ratingsCount.value_counts()[:5]"
   ]
  },
  {
   "attachments": {},
   "cell_type": "markdown",
   "id": "3e2b669b",
   "metadata": {},
   "source": [
    "#### We just need the top 5 highly rated books to give as a choice to the user so we will replace the null values with mean"
   ]
  },
  {
   "cell_type": "code",
   "execution_count": 12,
   "id": "f5fd440c",
   "metadata": {},
   "outputs": [],
   "source": [
    "df = df.fillna({\n",
    "    \"ratingsCount\" : df.ratingsCount.mean()\n",
    "})"
   ]
  },
  {
   "cell_type": "code",
   "execution_count": 13,
   "id": "30bd78a0",
   "metadata": {},
   "outputs": [
    {
     "name": "stdout",
     "output_type": "stream",
     "text": [
      "<class 'pandas.core.frame.DataFrame'>\n",
      "RangeIndex: 16928 entries, 0 to 16927\n",
      "Data columns (total 10 columns):\n",
      " #   Column         Non-Null Count  Dtype  \n",
      "---  ------         --------------  -----  \n",
      " 0   Title          16928 non-null  object \n",
      " 1   description    16928 non-null  object \n",
      " 2   authors        16928 non-null  object \n",
      " 3   image          16928 non-null  object \n",
      " 4   previewLink    16928 non-null  object \n",
      " 5   publisher      16928 non-null  object \n",
      " 6   publishedDate  16865 non-null  object \n",
      " 7   infoLink       16928 non-null  object \n",
      " 8   ratingsCount   16928 non-null  float64\n",
      " 9   genre          16928 non-null  object \n",
      "dtypes: float64(1), object(9)\n",
      "memory usage: 1.3+ MB\n"
     ]
    }
   ],
   "source": [
    "df.info()"
   ]
  },
  {
   "cell_type": "code",
   "execution_count": 14,
   "id": "de3949cc",
   "metadata": {},
   "outputs": [
    {
     "data": {
      "text/plain": [
       "count     16865\n",
       "unique     4304\n",
       "top        2000\n",
       "freq        336\n",
       "Name: publishedDate, dtype: object"
      ]
     },
     "execution_count": 14,
     "metadata": {},
     "output_type": "execute_result"
    }
   ],
   "source": [
    "df.publishedDate.describe()"
   ]
  },
  {
   "cell_type": "markdown",
   "id": "91a4b09c",
   "metadata": {},
   "source": [
    "#### There are 63 null values for date of publishing, we would simply drop these rows "
   ]
  },
  {
   "cell_type": "code",
   "execution_count": 15,
   "id": "453d57c5",
   "metadata": {},
   "outputs": [],
   "source": [
    "df.dropna(inplace=True)"
   ]
  },
  {
   "cell_type": "code",
   "execution_count": 16,
   "id": "b65149fe",
   "metadata": {},
   "outputs": [
    {
     "data": {
      "text/plain": [
       "Title            0\n",
       "description      0\n",
       "authors          0\n",
       "image            0\n",
       "previewLink      0\n",
       "publisher        0\n",
       "publishedDate    0\n",
       "infoLink         0\n",
       "ratingsCount     0\n",
       "genre            0\n",
       "dtype: int64"
      ]
     },
     "execution_count": 16,
     "metadata": {},
     "output_type": "execute_result"
    }
   ],
   "source": [
    "df.isnull().sum()"
   ]
  },
  {
   "cell_type": "code",
   "execution_count": 17,
   "id": "9d5a9cd7",
   "metadata": {},
   "outputs": [
    {
     "data": {
      "text/html": [
       "<div>\n",
       "<style scoped>\n",
       "    .dataframe tbody tr th:only-of-type {\n",
       "        vertical-align: middle;\n",
       "    }\n",
       "\n",
       "    .dataframe tbody tr th {\n",
       "        vertical-align: top;\n",
       "    }\n",
       "\n",
       "    .dataframe thead th {\n",
       "        text-align: right;\n",
       "    }\n",
       "</style>\n",
       "<table border=\"1\" class=\"dataframe\">\n",
       "  <thead>\n",
       "    <tr style=\"text-align: right;\">\n",
       "      <th></th>\n",
       "      <th>Title</th>\n",
       "      <th>description</th>\n",
       "      <th>authors</th>\n",
       "      <th>image</th>\n",
       "      <th>previewLink</th>\n",
       "      <th>publisher</th>\n",
       "      <th>publishedDate</th>\n",
       "      <th>infoLink</th>\n",
       "      <th>ratingsCount</th>\n",
       "      <th>genre</th>\n",
       "    </tr>\n",
       "  </thead>\n",
       "  <tbody>\n",
       "    <tr>\n",
       "      <th>0</th>\n",
       "      <td>Reap the Whirlwind</td>\n",
       "      <td>“This account of battle on the plains brings t...</td>\n",
       "      <td>Terry C. Johnston</td>\n",
       "      <td>http://books.google.com/books/content?id=XrOd3...</td>\n",
       "      <td>http://books.google.com/books?id=XrOd3eY6AoMC&amp;...</td>\n",
       "      <td>Domain</td>\n",
       "      <td>2010-07-21</td>\n",
       "      <td>https://play.google.com/store/books/details?id...</td>\n",
       "      <td>1.000000</td>\n",
       "      <td>fiction</td>\n",
       "    </tr>\n",
       "    <tr>\n",
       "      <th>1</th>\n",
       "      <td>The Scare Crow</td>\n",
       "      <td>When the farmer places a scarecrow in the corn...</td>\n",
       "      <td>Loren Long</td>\n",
       "      <td>http://books.google.com/books/content?id=iK3yD...</td>\n",
       "      <td>http://books.google.com/books?id=iK3yDQAAQBAJ&amp;...</td>\n",
       "      <td>Penguin</td>\n",
       "      <td>2014</td>\n",
       "      <td>http://books.google.com/books?id=iK3yDQAAQBAJ&amp;...</td>\n",
       "      <td>4.000000</td>\n",
       "      <td>fiction</td>\n",
       "    </tr>\n",
       "    <tr>\n",
       "      <th>2</th>\n",
       "      <td>New Moon (Berkley Sensation)</td>\n",
       "      <td>When werewolf Logan Marshall is rescued by an ...</td>\n",
       "      <td>Rebecca York</td>\n",
       "      <td>http://books.google.com/books/content?id=EEMSm...</td>\n",
       "      <td>http://books.google.com/books?id=EEMSmZQAQBcC&amp;...</td>\n",
       "      <td>Penguin</td>\n",
       "      <td>2007</td>\n",
       "      <td>http://books.google.com/books?id=EEMSmZQAQBcC&amp;...</td>\n",
       "      <td>2.000000</td>\n",
       "      <td>fiction</td>\n",
       "    </tr>\n",
       "    <tr>\n",
       "      <th>3</th>\n",
       "      <td>The Runaway Bridesmaid (Harlequin American Rom...</td>\n",
       "      <td>It's not who youre running from ... it's who y...</td>\n",
       "      <td>Kaitlyn Rice</td>\n",
       "      <td>http://books.google.com/books/content?id=f-4OX...</td>\n",
       "      <td>http://books.google.com/books?id=f-4OXrI3-SkC&amp;...</td>\n",
       "      <td>Harlequin Books</td>\n",
       "      <td>2006</td>\n",
       "      <td>http://books.google.com/books?id=f-4OXrI3-SkC&amp;...</td>\n",
       "      <td>34.144429</td>\n",
       "      <td>fiction</td>\n",
       "    </tr>\n",
       "    <tr>\n",
       "      <th>4</th>\n",
       "      <td>Two years before the mast: A personal narrativ...</td>\n",
       "      <td>This book is a fascinating and detailed chroni...</td>\n",
       "      <td>R. H. Dana</td>\n",
       "      <td>http://books.google.com/books/content?id=gfC1C...</td>\n",
       "      <td>http://books.google.com/books?id=gfC1CwAAQBAJ&amp;...</td>\n",
       "      <td>Read Books Ltd</td>\n",
       "      <td>2016-03-09</td>\n",
       "      <td>https://play.google.com/store/books/details?id...</td>\n",
       "      <td>1.000000</td>\n",
       "      <td>sports &amp; recreation</td>\n",
       "    </tr>\n",
       "  </tbody>\n",
       "</table>\n",
       "</div>"
      ],
      "text/plain": [
       "                                               Title  \\\n",
       "0                                 Reap the Whirlwind   \n",
       "1                                     The Scare Crow   \n",
       "2                       New Moon (Berkley Sensation)   \n",
       "3  The Runaway Bridesmaid (Harlequin American Rom...   \n",
       "4  Two years before the mast: A personal narrativ...   \n",
       "\n",
       "                                         description            authors  \\\n",
       "0  “This account of battle on the plains brings t...  Terry C. Johnston   \n",
       "1  When the farmer places a scarecrow in the corn...         Loren Long   \n",
       "2  When werewolf Logan Marshall is rescued by an ...       Rebecca York   \n",
       "3  It's not who youre running from ... it's who y...       Kaitlyn Rice   \n",
       "4  This book is a fascinating and detailed chroni...         R. H. Dana   \n",
       "\n",
       "                                               image  \\\n",
       "0  http://books.google.com/books/content?id=XrOd3...   \n",
       "1  http://books.google.com/books/content?id=iK3yD...   \n",
       "2  http://books.google.com/books/content?id=EEMSm...   \n",
       "3  http://books.google.com/books/content?id=f-4OX...   \n",
       "4  http://books.google.com/books/content?id=gfC1C...   \n",
       "\n",
       "                                         previewLink        publisher  \\\n",
       "0  http://books.google.com/books?id=XrOd3eY6AoMC&...           Domain   \n",
       "1  http://books.google.com/books?id=iK3yDQAAQBAJ&...          Penguin   \n",
       "2  http://books.google.com/books?id=EEMSmZQAQBcC&...          Penguin   \n",
       "3  http://books.google.com/books?id=f-4OXrI3-SkC&...  Harlequin Books   \n",
       "4  http://books.google.com/books?id=gfC1CwAAQBAJ&...   Read Books Ltd   \n",
       "\n",
       "  publishedDate                                           infoLink  \\\n",
       "0    2010-07-21  https://play.google.com/store/books/details?id...   \n",
       "1          2014  http://books.google.com/books?id=iK3yDQAAQBAJ&...   \n",
       "2          2007  http://books.google.com/books?id=EEMSmZQAQBcC&...   \n",
       "3          2006  http://books.google.com/books?id=f-4OXrI3-SkC&...   \n",
       "4    2016-03-09  https://play.google.com/store/books/details?id...   \n",
       "\n",
       "   ratingsCount                genre  \n",
       "0      1.000000              fiction  \n",
       "1      4.000000              fiction  \n",
       "2      2.000000              fiction  \n",
       "3     34.144429              fiction  \n",
       "4      1.000000  sports & recreation  "
      ]
     },
     "execution_count": 17,
     "metadata": {},
     "output_type": "execute_result"
    }
   ],
   "source": [
    "df.head()"
   ]
  },
  {
   "attachments": {},
   "cell_type": "markdown",
   "id": "2744be92",
   "metadata": {},
   "source": [
    "#### Here we will generate 2 more columns, introverts and  extroverts which is either 1 or 0 depending on the likliness of the book being liked by introverts, extroverts or both. \n"
   ]
  },
  {
   "cell_type": "code",
   "execution_count": 18,
   "id": "45b8c1af",
   "metadata": {},
   "outputs": [],
   "source": [
    "introverts = [\"fiction\", \"young adult fiction\", \"Horror\"]\n",
    "extroverts = [\"sports & recreation\", \"music\", \"travel\"]\n",
    "introverts_and_extroverts = [\"humour\", \"drama\", \"adventure stories\", \"crime\", \"romances\", 'military biography']"
   ]
  },
  {
   "cell_type": "code",
   "execution_count": 19,
   "id": "8124648e",
   "metadata": {},
   "outputs": [],
   "source": [
    "df[\"introvert\"] = [1 if i in (introverts or introverts_and_extroverts) else 0 for i in df.genre]\n",
    "df[\"extrovert\"] = [1 if i in (extroverts or introverts_and_extroverts) else 0 for i in df.genre]"
   ]
  },
  {
   "cell_type": "code",
   "execution_count": 20,
   "id": "d9a302e0",
   "metadata": {},
   "outputs": [],
   "source": [
    "df.to_csv(\"dataset.csv\", index=False)"
   ]
  }
 ],
 "metadata": {
  "kernelspec": {
   "display_name": "Python 3",
   "language": "python",
   "name": "python3"
  },
  "language_info": {
   "codemirror_mode": {
    "name": "ipython",
    "version": 3
   },
   "file_extension": ".py",
   "mimetype": "text/x-python",
   "name": "python",
   "nbconvert_exporter": "python",
   "pygments_lexer": "ipython3",
   "version": "3.9.5"
  },
  "vscode": {
   "interpreter": {
    "hash": "5addf786bcd861d1ce5006f23111f8cbb206731e5b61b0a5632ba9e0252558a8"
   }
  }
 },
 "nbformat": 4,
 "nbformat_minor": 5
}

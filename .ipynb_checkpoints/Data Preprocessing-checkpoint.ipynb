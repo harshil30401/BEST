{
 "cells": [
  {
   "cell_type": "code",
   "execution_count": 1,
   "id": "9eb9ad39",
   "metadata": {},
   "outputs": [],
   "source": [
    "import pandas as pd\n",
    "import numpy as np\n",
    "from sklearn.metrics.pairwise import cosine_similarity"
   ]
  },
  {
   "cell_type": "code",
   "execution_count": 2,
   "id": "ef743590",
   "metadata": {},
   "outputs": [
    {
     "data": {
      "text/html": [
       "<div>\n",
       "<style scoped>\n",
       "    .dataframe tbody tr th:only-of-type {\n",
       "        vertical-align: middle;\n",
       "    }\n",
       "\n",
       "    .dataframe tbody tr th {\n",
       "        vertical-align: top;\n",
       "    }\n",
       "\n",
       "    .dataframe thead th {\n",
       "        text-align: right;\n",
       "    }\n",
       "</style>\n",
       "<table border=\"1\" class=\"dataframe\">\n",
       "  <thead>\n",
       "    <tr style=\"text-align: right;\">\n",
       "      <th></th>\n",
       "      <th>Title</th>\n",
       "      <th>description</th>\n",
       "      <th>authors</th>\n",
       "      <th>image</th>\n",
       "      <th>previewLink</th>\n",
       "      <th>publisher</th>\n",
       "      <th>publishedDate</th>\n",
       "      <th>infoLink</th>\n",
       "      <th>genre</th>\n",
       "    </tr>\n",
       "  </thead>\n",
       "  <tbody>\n",
       "    <tr>\n",
       "      <th>0</th>\n",
       "      <td>Famous Italian Opera Arias: A Dual-Language Book</td>\n",
       "      <td>Original Italian texts with English translatio...</td>\n",
       "      <td>['Ellen H. Bleiler']</td>\n",
       "      <td>http://books.google.com/books/content?id=h__kD...</td>\n",
       "      <td>http://books.google.nl/books?id=h__kDtEueOAC&amp;p...</td>\n",
       "      <td>Courier Corporation</td>\n",
       "      <td>2012-12-11</td>\n",
       "      <td>http://books.google.nl/books?id=h__kDtEueOAC&amp;d...</td>\n",
       "      <td>music</td>\n",
       "    </tr>\n",
       "    <tr>\n",
       "      <th>1</th>\n",
       "      <td>Coaching a Championship High School Track &amp; Fi...</td>\n",
       "      <td>Guthrie presents coaches with a blueprint for ...</td>\n",
       "      <td>['Mark Guthrie']</td>\n",
       "      <td>http://books.google.com/books/content?id=CUKDR...</td>\n",
       "      <td>http://books.google.com/books?id=CUKDRH3_LNUC&amp;...</td>\n",
       "      <td>Human Kinetics</td>\n",
       "      <td>2003</td>\n",
       "      <td>http://books.google.com/books?id=CUKDRH3_LNUC&amp;...</td>\n",
       "      <td>sports &amp; recreation</td>\n",
       "    </tr>\n",
       "    <tr>\n",
       "      <th>2</th>\n",
       "      <td>The Best Man To Die</td>\n",
       "      <td>Chief Inspector Wexford investigates the murde...</td>\n",
       "      <td>['Ruth Rendell']</td>\n",
       "      <td>http://books.google.com/books/content?id=0PMKw...</td>\n",
       "      <td>http://books.google.com/books?id=0PMKwQEACAAJ&amp;...</td>\n",
       "      <td>Fawcett Books</td>\n",
       "      <td>1987-05</td>\n",
       "      <td>http://books.google.com/books?id=0PMKwQEACAAJ&amp;...</td>\n",
       "      <td>fiction</td>\n",
       "    </tr>\n",
       "    <tr>\n",
       "      <th>3</th>\n",
       "      <td>BEYOND THE CORAL SEA. Travels in the old Empir...</td>\n",
       "      <td>A romantic and adventurous journey to the hidd...</td>\n",
       "      <td>['Michael Moran']</td>\n",
       "      <td>http://books.google.com/books/content?id=Yhtd0...</td>\n",
       "      <td>http://books.google.com/books?id=Yhtd0WXCJKQC&amp;...</td>\n",
       "      <td>HarperCollins UK</td>\n",
       "      <td>2012-06-28</td>\n",
       "      <td>https://play.google.com/store/books/details?id...</td>\n",
       "      <td>travel</td>\n",
       "    </tr>\n",
       "    <tr>\n",
       "      <th>4</th>\n",
       "      <td>Full Scoop (Full Series)</td>\n",
       "      <td>Beaumont, South Carolina, pediatrician Maggie ...</td>\n",
       "      <td>['Janet Evanovich', 'Charlotte Hughes']</td>\n",
       "      <td>http://books.google.com/books/content?id=6onh6...</td>\n",
       "      <td>http://books.google.com/books?id=6onh6Q4Lif0C&amp;...</td>\n",
       "      <td>Macmillan</td>\n",
       "      <td>2010-04-27</td>\n",
       "      <td>http://books.google.com/books?id=6onh6Q4Lif0C&amp;...</td>\n",
       "      <td>fiction</td>\n",
       "    </tr>\n",
       "    <tr>\n",
       "      <th>...</th>\n",
       "      <td>...</td>\n",
       "      <td>...</td>\n",
       "      <td>...</td>\n",
       "      <td>...</td>\n",
       "      <td>...</td>\n",
       "      <td>...</td>\n",
       "      <td>...</td>\n",
       "      <td>...</td>\n",
       "      <td>...</td>\n",
       "    </tr>\n",
       "    <tr>\n",
       "      <th>16923</th>\n",
       "      <td>FFH - Voice From Home</td>\n",
       "      <td>11 tracks from FFH's 2005 release featuring so...</td>\n",
       "      <td>['FFH (CRT)']</td>\n",
       "      <td>http://books.google.com/books/content?id=eRAkA...</td>\n",
       "      <td>http://books.google.com/books?id=eRAkAAAACAAJ&amp;...</td>\n",
       "      <td>Brentwood-Benson Music Pub</td>\n",
       "      <td>2006-01-01</td>\n",
       "      <td>http://books.google.com/books?id=eRAkAAAACAAJ&amp;...</td>\n",
       "      <td>music</td>\n",
       "    </tr>\n",
       "    <tr>\n",
       "      <th>16924</th>\n",
       "      <td>Lesser Evil (Star Trek Deep Space Nine: Missio...</td>\n",
       "      <td>After a shocking death, space station Deep Spa...</td>\n",
       "      <td>['Robert Simpson']</td>\n",
       "      <td>http://books.google.com/books/content?id=LpAzA...</td>\n",
       "      <td>http://books.google.com/books?id=LpAzAAAACAAJ&amp;...</td>\n",
       "      <td>Pocket Books/Star Trek</td>\n",
       "      <td>2002</td>\n",
       "      <td>http://books.google.com/books?id=LpAzAAAACAAJ&amp;...</td>\n",
       "      <td>fiction</td>\n",
       "    </tr>\n",
       "    <tr>\n",
       "      <th>16925</th>\n",
       "      <td>The Prodigal Wife (To Have &amp; to Hold)</td>\n",
       "      <td>\"Deservedly compared to her countrywomen, Binc...</td>\n",
       "      <td>['Marcia Willett']</td>\n",
       "      <td>http://books.google.com/books/content?id=oHBzv...</td>\n",
       "      <td>http://books.google.com/books?id=oHBzvuk9P5YC&amp;...</td>\n",
       "      <td>Macmillan</td>\n",
       "      <td>2010-01-05</td>\n",
       "      <td>https://play.google.com/store/books/details?id...</td>\n",
       "      <td>fiction</td>\n",
       "    </tr>\n",
       "    <tr>\n",
       "      <th>16926</th>\n",
       "      <td>Soulmates Dissipate</td>\n",
       "      <td>In this sensual and bittersweet story of true ...</td>\n",
       "      <td>['Mary B. Morrison']</td>\n",
       "      <td>http://books.google.com/books/content?id=6GWOv...</td>\n",
       "      <td>http://books.google.com/books?id=6GWOvgEACAAJ&amp;...</td>\n",
       "      <td>Booga Bear Poetry Group</td>\n",
       "      <td>2000</td>\n",
       "      <td>http://books.google.com/books?id=6GWOvgEACAAJ&amp;...</td>\n",
       "      <td>fiction</td>\n",
       "    </tr>\n",
       "    <tr>\n",
       "      <th>16927</th>\n",
       "      <td>How to be an alien;: A handbook for beginners ...</td>\n",
       "      <td>George Mikes says, 'the English have no soul; ...</td>\n",
       "      <td>['George Mikes']</td>\n",
       "      <td>http://books.google.com/books/content?id=ox9hC...</td>\n",
       "      <td>http://books.google.com/books?id=ox9hCXFc4XIC&amp;...</td>\n",
       "      <td>Penguin UK</td>\n",
       "      <td>1966</td>\n",
       "      <td>http://books.google.com/books?id=ox9hCXFc4XIC&amp;...</td>\n",
       "      <td>humor</td>\n",
       "    </tr>\n",
       "  </tbody>\n",
       "</table>\n",
       "<p>16928 rows × 9 columns</p>\n",
       "</div>"
      ],
      "text/plain": [
       "                                                   Title  \\\n",
       "0       Famous Italian Opera Arias: A Dual-Language Book   \n",
       "1      Coaching a Championship High School Track & Fi...   \n",
       "2                                    The Best Man To Die   \n",
       "3      BEYOND THE CORAL SEA. Travels in the old Empir...   \n",
       "4                               Full Scoop (Full Series)   \n",
       "...                                                  ...   \n",
       "16923                              FFH - Voice From Home   \n",
       "16924  Lesser Evil (Star Trek Deep Space Nine: Missio...   \n",
       "16925              The Prodigal Wife (To Have & to Hold)   \n",
       "16926                                Soulmates Dissipate   \n",
       "16927  How to be an alien;: A handbook for beginners ...   \n",
       "\n",
       "                                             description  \\\n",
       "0      Original Italian texts with English translatio...   \n",
       "1      Guthrie presents coaches with a blueprint for ...   \n",
       "2      Chief Inspector Wexford investigates the murde...   \n",
       "3      A romantic and adventurous journey to the hidd...   \n",
       "4      Beaumont, South Carolina, pediatrician Maggie ...   \n",
       "...                                                  ...   \n",
       "16923  11 tracks from FFH's 2005 release featuring so...   \n",
       "16924  After a shocking death, space station Deep Spa...   \n",
       "16925  \"Deservedly compared to her countrywomen, Binc...   \n",
       "16926  In this sensual and bittersweet story of true ...   \n",
       "16927  George Mikes says, 'the English have no soul; ...   \n",
       "\n",
       "                                       authors  \\\n",
       "0                         ['Ellen H. Bleiler']   \n",
       "1                             ['Mark Guthrie']   \n",
       "2                             ['Ruth Rendell']   \n",
       "3                            ['Michael Moran']   \n",
       "4      ['Janet Evanovich', 'Charlotte Hughes']   \n",
       "...                                        ...   \n",
       "16923                            ['FFH (CRT)']   \n",
       "16924                       ['Robert Simpson']   \n",
       "16925                       ['Marcia Willett']   \n",
       "16926                     ['Mary B. Morrison']   \n",
       "16927                         ['George Mikes']   \n",
       "\n",
       "                                                   image  \\\n",
       "0      http://books.google.com/books/content?id=h__kD...   \n",
       "1      http://books.google.com/books/content?id=CUKDR...   \n",
       "2      http://books.google.com/books/content?id=0PMKw...   \n",
       "3      http://books.google.com/books/content?id=Yhtd0...   \n",
       "4      http://books.google.com/books/content?id=6onh6...   \n",
       "...                                                  ...   \n",
       "16923  http://books.google.com/books/content?id=eRAkA...   \n",
       "16924  http://books.google.com/books/content?id=LpAzA...   \n",
       "16925  http://books.google.com/books/content?id=oHBzv...   \n",
       "16926  http://books.google.com/books/content?id=6GWOv...   \n",
       "16927  http://books.google.com/books/content?id=ox9hC...   \n",
       "\n",
       "                                             previewLink  \\\n",
       "0      http://books.google.nl/books?id=h__kDtEueOAC&p...   \n",
       "1      http://books.google.com/books?id=CUKDRH3_LNUC&...   \n",
       "2      http://books.google.com/books?id=0PMKwQEACAAJ&...   \n",
       "3      http://books.google.com/books?id=Yhtd0WXCJKQC&...   \n",
       "4      http://books.google.com/books?id=6onh6Q4Lif0C&...   \n",
       "...                                                  ...   \n",
       "16923  http://books.google.com/books?id=eRAkAAAACAAJ&...   \n",
       "16924  http://books.google.com/books?id=LpAzAAAACAAJ&...   \n",
       "16925  http://books.google.com/books?id=oHBzvuk9P5YC&...   \n",
       "16926  http://books.google.com/books?id=6GWOvgEACAAJ&...   \n",
       "16927  http://books.google.com/books?id=ox9hCXFc4XIC&...   \n",
       "\n",
       "                        publisher publishedDate  \\\n",
       "0             Courier Corporation    2012-12-11   \n",
       "1                  Human Kinetics          2003   \n",
       "2                   Fawcett Books       1987-05   \n",
       "3                HarperCollins UK    2012-06-28   \n",
       "4                       Macmillan    2010-04-27   \n",
       "...                           ...           ...   \n",
       "16923  Brentwood-Benson Music Pub    2006-01-01   \n",
       "16924      Pocket Books/Star Trek          2002   \n",
       "16925                   Macmillan    2010-01-05   \n",
       "16926     Booga Bear Poetry Group          2000   \n",
       "16927                  Penguin UK          1966   \n",
       "\n",
       "                                                infoLink                genre  \n",
       "0      http://books.google.nl/books?id=h__kDtEueOAC&d...                music  \n",
       "1      http://books.google.com/books?id=CUKDRH3_LNUC&...  sports & recreation  \n",
       "2      http://books.google.com/books?id=0PMKwQEACAAJ&...              fiction  \n",
       "3      https://play.google.com/store/books/details?id...               travel  \n",
       "4      http://books.google.com/books?id=6onh6Q4Lif0C&...              fiction  \n",
       "...                                                  ...                  ...  \n",
       "16923  http://books.google.com/books?id=eRAkAAAACAAJ&...                music  \n",
       "16924  http://books.google.com/books?id=LpAzAAAACAAJ&...              fiction  \n",
       "16925  https://play.google.com/store/books/details?id...              fiction  \n",
       "16926  http://books.google.com/books?id=6GWOvgEACAAJ&...              fiction  \n",
       "16927  http://books.google.com/books?id=ox9hCXFc4XIC&...                humor  \n",
       "\n",
       "[16928 rows x 9 columns]"
      ]
     },
     "execution_count": 2,
     "metadata": {},
     "output_type": "execute_result"
    }
   ],
   "source": [
    "df = pd.read_csv(\"books.csv\")\n",
    "df"
   ]
  },
  {
   "cell_type": "markdown",
   "id": "6fc19860",
   "metadata": {},
   "source": [
    "### Data Exploration"
   ]
  },
  {
   "cell_type": "code",
   "execution_count": 3,
   "id": "bea01531",
   "metadata": {},
   "outputs": [
    {
     "name": "stdout",
     "output_type": "stream",
     "text": [
      "Famous Italian Opera Arias: A Dual-Language Book\n",
      "Original Italian texts with English translations of 145 arias from 50 operas, including Rigoletto, The Marriage of Figaro, Lucia di Lammermoor, Madama Butterfly, La Bohème, and more. Introduction.\n",
      "['Ellen H. Bleiler']\n",
      "http://books.google.com/books/content?id=h__kDtEueOAC&printsec=frontcover&img=1&zoom=1&edge=curl&source=gbs_api\n",
      "http://books.google.nl/books?id=h__kDtEueOAC&printsec=frontcover&dq=Famous+Italian+Opera+Arias:+A+Dual-Language+Book&hl=&cd=1&source=gbs_api\n",
      "Courier Corporation\n",
      "2012-12-11\n",
      "http://books.google.nl/books?id=h__kDtEueOAC&dq=Famous+Italian+Opera+Arias:+A+Dual-Language+Book&hl=&source=gbs_api\n",
      "music\n"
     ]
    }
   ],
   "source": [
    "for i in df.loc[0]:\n",
    "    print(i)"
   ]
  },
  {
   "cell_type": "code",
   "execution_count": 4,
   "id": "cf7a464d",
   "metadata": {},
   "outputs": [
    {
     "name": "stdout",
     "output_type": "stream",
     "text": [
      "<class 'pandas.core.frame.DataFrame'>\n",
      "RangeIndex: 16928 entries, 0 to 16927\n",
      "Data columns (total 9 columns):\n",
      " #   Column         Non-Null Count  Dtype \n",
      "---  ------         --------------  ----- \n",
      " 0   Title          16928 non-null  object\n",
      " 1   description    15899 non-null  object\n",
      " 2   authors        16755 non-null  object\n",
      " 3   image          16244 non-null  object\n",
      " 4   previewLink    16928 non-null  object\n",
      " 5   publisher      15453 non-null  object\n",
      " 6   publishedDate  16865 non-null  object\n",
      " 7   infoLink       16928 non-null  object\n",
      " 8   genre          16928 non-null  object\n",
      "dtypes: object(9)\n",
      "memory usage: 1.2+ MB\n"
     ]
    }
   ],
   "source": [
    "df.info()"
   ]
  },
  {
   "cell_type": "code",
   "execution_count": 5,
   "id": "d88de0a6",
   "metadata": {},
   "outputs": [
    {
     "data": {
      "text/plain": [
       "Title               0\n",
       "description      1029\n",
       "authors           173\n",
       "image             684\n",
       "previewLink         0\n",
       "publisher        1475\n",
       "publishedDate      63\n",
       "infoLink            0\n",
       "genre               0\n",
       "dtype: int64"
      ]
     },
     "execution_count": 5,
     "metadata": {},
     "output_type": "execute_result"
    }
   ],
   "source": [
    "df.isnull().sum()"
   ]
  },
  {
   "cell_type": "code",
   "execution_count": 6,
   "id": "c4ac9522",
   "metadata": {},
   "outputs": [],
   "source": [
    "test = np.array([i for i in df.authors])\n",
    "test = [i[2:len(i)-2] for i in test]"
   ]
  },
  {
   "cell_type": "code",
   "execution_count": 7,
   "id": "2479f52b",
   "metadata": {},
   "outputs": [
    {
     "data": {
      "text/plain": [
       "0                           Ellen H. Bleiler\n",
       "1                               Mark Guthrie\n",
       "2                               Ruth Rendell\n",
       "3                              Michael Moran\n",
       "4        Janet Evanovich', 'Charlotte Hughes\n",
       "                        ...                 \n",
       "16923                              FFH (CRT)\n",
       "16924                         Robert Simpson\n",
       "16925                         Marcia Willett\n",
       "16926                       Mary B. Morrison\n",
       "16927                           George Mikes\n",
       "Name: authors, Length: 16928, dtype: object"
      ]
     },
     "execution_count": 7,
     "metadata": {},
     "output_type": "execute_result"
    }
   ],
   "source": [
    "df.authors = test\n",
    "df.authors"
   ]
  },
  {
   "cell_type": "markdown",
   "id": "8698bcd9",
   "metadata": {},
   "source": [
    "### Data Imputation"
   ]
  },
  {
   "cell_type": "markdown",
   "id": "ce1858ee",
   "metadata": {},
   "source": [
    "#### The null values of Description can be replaced with \"No description available!\"\n",
    "#### The null values of Authors can be replaced with \"Anonymous\"\n",
    "#### The null values of Images can be replaced with a Default image in database.\n",
    "#### The null values of publisher can be replaced with most frequent publisher in the column."
   ]
  },
  {
   "cell_type": "code",
   "execution_count": 8,
   "id": "b84ced09",
   "metadata": {},
   "outputs": [
    {
     "data": {
      "text/plain": [
       "str"
      ]
     },
     "execution_count": 8,
     "metadata": {},
     "output_type": "execute_result"
    }
   ],
   "source": [
    "type(df.image[0])"
   ]
  },
  {
   "cell_type": "code",
   "execution_count": 9,
   "id": "abf6455f",
   "metadata": {},
   "outputs": [
    {
     "data": {
      "text/plain": [
       "'Penguin'"
      ]
     },
     "execution_count": 9,
     "metadata": {},
     "output_type": "execute_result"
    }
   ],
   "source": [
    "df.publisher.value_counts().keys()[0]"
   ]
  },
  {
   "cell_type": "code",
   "execution_count": 10,
   "id": "129b6408",
   "metadata": {},
   "outputs": [],
   "source": [
    "df = df.fillna({\n",
    "    \"description\" : \"No Description available!\",\n",
    "    \"authors\" : \"Anonymous\",\n",
    "    \"image\" : \"https://tse3.mm.bing.net/th?id=OIP.P-nIodv7WzkQ4wYYPsXWaQAAAA&pid=Api&P=0\",\n",
    "    \"publisher\" : df.publisher.value_counts().keys()[0],\n",
    "})"
   ]
  },
  {
   "cell_type": "code",
   "execution_count": 11,
   "id": "30bd78a0",
   "metadata": {},
   "outputs": [
    {
     "name": "stdout",
     "output_type": "stream",
     "text": [
      "<class 'pandas.core.frame.DataFrame'>\n",
      "RangeIndex: 16928 entries, 0 to 16927\n",
      "Data columns (total 9 columns):\n",
      " #   Column         Non-Null Count  Dtype \n",
      "---  ------         --------------  ----- \n",
      " 0   Title          16928 non-null  object\n",
      " 1   description    16928 non-null  object\n",
      " 2   authors        16928 non-null  object\n",
      " 3   image          16928 non-null  object\n",
      " 4   previewLink    16928 non-null  object\n",
      " 5   publisher      16928 non-null  object\n",
      " 6   publishedDate  16865 non-null  object\n",
      " 7   infoLink       16928 non-null  object\n",
      " 8   genre          16928 non-null  object\n",
      "dtypes: object(9)\n",
      "memory usage: 1.2+ MB\n"
     ]
    }
   ],
   "source": [
    "df.info()"
   ]
  },
  {
   "cell_type": "code",
   "execution_count": 12,
   "id": "de3949cc",
   "metadata": {},
   "outputs": [
    {
     "data": {
      "text/plain": [
       "count     16865\n",
       "unique     4304\n",
       "top        2000\n",
       "freq        336\n",
       "Name: publishedDate, dtype: object"
      ]
     },
     "execution_count": 12,
     "metadata": {},
     "output_type": "execute_result"
    }
   ],
   "source": [
    "df.publishedDate.describe()"
   ]
  },
  {
   "cell_type": "markdown",
   "id": "91a4b09c",
   "metadata": {},
   "source": [
    "#### There are 63 null values for date of publishing, we would simply drop these rows "
   ]
  },
  {
   "cell_type": "code",
   "execution_count": 13,
   "id": "453d57c5",
   "metadata": {},
   "outputs": [],
   "source": [
    "df.dropna(inplace=True)"
   ]
  },
  {
   "cell_type": "code",
   "execution_count": 14,
   "id": "b65149fe",
   "metadata": {},
   "outputs": [
    {
     "data": {
      "text/plain": [
       "Title            0\n",
       "description      0\n",
       "authors          0\n",
       "image            0\n",
       "previewLink      0\n",
       "publisher        0\n",
       "publishedDate    0\n",
       "infoLink         0\n",
       "genre            0\n",
       "dtype: int64"
      ]
     },
     "execution_count": 14,
     "metadata": {},
     "output_type": "execute_result"
    }
   ],
   "source": [
    "df.isnull().sum()"
   ]
  },
  {
   "cell_type": "code",
   "execution_count": 15,
   "id": "9d5a9cd7",
   "metadata": {},
   "outputs": [
    {
     "data": {
      "text/html": [
       "<div>\n",
       "<style scoped>\n",
       "    .dataframe tbody tr th:only-of-type {\n",
       "        vertical-align: middle;\n",
       "    }\n",
       "\n",
       "    .dataframe tbody tr th {\n",
       "        vertical-align: top;\n",
       "    }\n",
       "\n",
       "    .dataframe thead th {\n",
       "        text-align: right;\n",
       "    }\n",
       "</style>\n",
       "<table border=\"1\" class=\"dataframe\">\n",
       "  <thead>\n",
       "    <tr style=\"text-align: right;\">\n",
       "      <th></th>\n",
       "      <th>Title</th>\n",
       "      <th>description</th>\n",
       "      <th>authors</th>\n",
       "      <th>image</th>\n",
       "      <th>previewLink</th>\n",
       "      <th>publisher</th>\n",
       "      <th>publishedDate</th>\n",
       "      <th>infoLink</th>\n",
       "      <th>genre</th>\n",
       "    </tr>\n",
       "  </thead>\n",
       "  <tbody>\n",
       "    <tr>\n",
       "      <th>0</th>\n",
       "      <td>Famous Italian Opera Arias: A Dual-Language Book</td>\n",
       "      <td>Original Italian texts with English translatio...</td>\n",
       "      <td>Ellen H. Bleiler</td>\n",
       "      <td>http://books.google.com/books/content?id=h__kD...</td>\n",
       "      <td>http://books.google.nl/books?id=h__kDtEueOAC&amp;p...</td>\n",
       "      <td>Courier Corporation</td>\n",
       "      <td>2012-12-11</td>\n",
       "      <td>http://books.google.nl/books?id=h__kDtEueOAC&amp;d...</td>\n",
       "      <td>music</td>\n",
       "    </tr>\n",
       "    <tr>\n",
       "      <th>1</th>\n",
       "      <td>Coaching a Championship High School Track &amp; Fi...</td>\n",
       "      <td>Guthrie presents coaches with a blueprint for ...</td>\n",
       "      <td>Mark Guthrie</td>\n",
       "      <td>http://books.google.com/books/content?id=CUKDR...</td>\n",
       "      <td>http://books.google.com/books?id=CUKDRH3_LNUC&amp;...</td>\n",
       "      <td>Human Kinetics</td>\n",
       "      <td>2003</td>\n",
       "      <td>http://books.google.com/books?id=CUKDRH3_LNUC&amp;...</td>\n",
       "      <td>sports &amp; recreation</td>\n",
       "    </tr>\n",
       "    <tr>\n",
       "      <th>2</th>\n",
       "      <td>The Best Man To Die</td>\n",
       "      <td>Chief Inspector Wexford investigates the murde...</td>\n",
       "      <td>Ruth Rendell</td>\n",
       "      <td>http://books.google.com/books/content?id=0PMKw...</td>\n",
       "      <td>http://books.google.com/books?id=0PMKwQEACAAJ&amp;...</td>\n",
       "      <td>Fawcett Books</td>\n",
       "      <td>1987-05</td>\n",
       "      <td>http://books.google.com/books?id=0PMKwQEACAAJ&amp;...</td>\n",
       "      <td>fiction</td>\n",
       "    </tr>\n",
       "    <tr>\n",
       "      <th>3</th>\n",
       "      <td>BEYOND THE CORAL SEA. Travels in the old Empir...</td>\n",
       "      <td>A romantic and adventurous journey to the hidd...</td>\n",
       "      <td>Michael Moran</td>\n",
       "      <td>http://books.google.com/books/content?id=Yhtd0...</td>\n",
       "      <td>http://books.google.com/books?id=Yhtd0WXCJKQC&amp;...</td>\n",
       "      <td>HarperCollins UK</td>\n",
       "      <td>2012-06-28</td>\n",
       "      <td>https://play.google.com/store/books/details?id...</td>\n",
       "      <td>travel</td>\n",
       "    </tr>\n",
       "    <tr>\n",
       "      <th>4</th>\n",
       "      <td>Full Scoop (Full Series)</td>\n",
       "      <td>Beaumont, South Carolina, pediatrician Maggie ...</td>\n",
       "      <td>Janet Evanovich', 'Charlotte Hughes</td>\n",
       "      <td>http://books.google.com/books/content?id=6onh6...</td>\n",
       "      <td>http://books.google.com/books?id=6onh6Q4Lif0C&amp;...</td>\n",
       "      <td>Macmillan</td>\n",
       "      <td>2010-04-27</td>\n",
       "      <td>http://books.google.com/books?id=6onh6Q4Lif0C&amp;...</td>\n",
       "      <td>fiction</td>\n",
       "    </tr>\n",
       "  </tbody>\n",
       "</table>\n",
       "</div>"
      ],
      "text/plain": [
       "                                               Title  \\\n",
       "0   Famous Italian Opera Arias: A Dual-Language Book   \n",
       "1  Coaching a Championship High School Track & Fi...   \n",
       "2                                The Best Man To Die   \n",
       "3  BEYOND THE CORAL SEA. Travels in the old Empir...   \n",
       "4                           Full Scoop (Full Series)   \n",
       "\n",
       "                                         description  \\\n",
       "0  Original Italian texts with English translatio...   \n",
       "1  Guthrie presents coaches with a blueprint for ...   \n",
       "2  Chief Inspector Wexford investigates the murde...   \n",
       "3  A romantic and adventurous journey to the hidd...   \n",
       "4  Beaumont, South Carolina, pediatrician Maggie ...   \n",
       "\n",
       "                               authors  \\\n",
       "0                     Ellen H. Bleiler   \n",
       "1                         Mark Guthrie   \n",
       "2                         Ruth Rendell   \n",
       "3                        Michael Moran   \n",
       "4  Janet Evanovich', 'Charlotte Hughes   \n",
       "\n",
       "                                               image  \\\n",
       "0  http://books.google.com/books/content?id=h__kD...   \n",
       "1  http://books.google.com/books/content?id=CUKDR...   \n",
       "2  http://books.google.com/books/content?id=0PMKw...   \n",
       "3  http://books.google.com/books/content?id=Yhtd0...   \n",
       "4  http://books.google.com/books/content?id=6onh6...   \n",
       "\n",
       "                                         previewLink            publisher  \\\n",
       "0  http://books.google.nl/books?id=h__kDtEueOAC&p...  Courier Corporation   \n",
       "1  http://books.google.com/books?id=CUKDRH3_LNUC&...       Human Kinetics   \n",
       "2  http://books.google.com/books?id=0PMKwQEACAAJ&...        Fawcett Books   \n",
       "3  http://books.google.com/books?id=Yhtd0WXCJKQC&...     HarperCollins UK   \n",
       "4  http://books.google.com/books?id=6onh6Q4Lif0C&...            Macmillan   \n",
       "\n",
       "  publishedDate                                           infoLink  \\\n",
       "0    2012-12-11  http://books.google.nl/books?id=h__kDtEueOAC&d...   \n",
       "1          2003  http://books.google.com/books?id=CUKDRH3_LNUC&...   \n",
       "2       1987-05  http://books.google.com/books?id=0PMKwQEACAAJ&...   \n",
       "3    2012-06-28  https://play.google.com/store/books/details?id...   \n",
       "4    2010-04-27  http://books.google.com/books?id=6onh6Q4Lif0C&...   \n",
       "\n",
       "                 genre  \n",
       "0                music  \n",
       "1  sports & recreation  \n",
       "2              fiction  \n",
       "3               travel  \n",
       "4              fiction  "
      ]
     },
     "execution_count": 15,
     "metadata": {},
     "output_type": "execute_result"
    }
   ],
   "source": [
    "df.head()"
   ]
  },
  {
   "cell_type": "code",
   "execution_count": 16,
   "id": "d9a302e0",
   "metadata": {},
   "outputs": [],
   "source": [
    "df.to_csv(\"dataset.csv\", index=False)"
   ]
  }
 ],
 "metadata": {
  "kernelspec": {
   "display_name": "Python 3 (ipykernel)",
   "language": "python",
   "name": "python3"
  },
  "language_info": {
   "codemirror_mode": {
    "name": "ipython",
    "version": 3
   },
   "file_extension": ".py",
   "mimetype": "text/x-python",
   "name": "python",
   "nbconvert_exporter": "python",
   "pygments_lexer": "ipython3",
   "version": "3.9.5"
  }
 },
 "nbformat": 4,
 "nbformat_minor": 5
}
